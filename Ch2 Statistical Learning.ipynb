{
 "cells": [
  {
   "cell_type": "markdown",
   "id": "fc6918cb-59d0-4433-8214-eb480ed4663c",
   "metadata": {},
   "source": [
    "# Chapter 2: Linear Regression\n",
    "\n",
    "## General form\n",
    "$$\n",
    "Y = f(X) + \\epsilon \n",
    "$$\n",
    "We estimate f for: (1) prediction (2) inference\n",
    "\n",
    "## Parametric methods and non-premetric methods\n",
    "Paremetric methods\n",
    "- make an assumption about the functional form\n",
    "- fit/train data to get parameters\n",
    "\n",
    "Non-parametric methods\n",
    "- no explicit assumption but require large number of observations"
   ]
  },
  {
   "cell_type": "code",
   "execution_count": null,
   "id": "4cb12967-8d2c-454e-9684-a7cbf1005936",
   "metadata": {},
   "outputs": [],
   "source": []
  }
 ],
 "metadata": {
  "kernelspec": {
   "display_name": "Python 3 (ipykernel)",
   "language": "python",
   "name": "python3"
  },
  "language_info": {
   "codemirror_mode": {
    "name": "ipython",
    "version": 3
   },
   "file_extension": ".py",
   "mimetype": "text/x-python",
   "name": "python",
   "nbconvert_exporter": "python",
   "pygments_lexer": "ipython3",
   "version": "3.11.7"
  }
 },
 "nbformat": 4,
 "nbformat_minor": 5
}
